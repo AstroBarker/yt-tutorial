{
 "cells": [
  {
   "cell_type": "markdown",
   "metadata": {},
   "source": [
    "# yt-tutorial\n",
    "\n",
    "scripts: https://github.com/kuochuanpan/yt-tutorial\n",
    "data: https://goo.gl/dSXTs7\n",
    "\n",
    "Kuo-Chuan Pan 2018.06.01"
   ]
  },
  {
   "cell_type": "code",
   "execution_count": null,
   "metadata": {},
   "outputs": [],
   "source": [
    "import yt\n",
    "import numpy as np\n",
    "import matplotlib as mpl\n",
    "import matplotlib.pyplot as plt\n",
    "%matplotlib inline"
   ]
  },
  {
   "cell_type": "markdown",
   "metadata": {},
   "source": [
    "change plot style (optional)"
   ]
  },
  {
   "cell_type": "code",
   "execution_count": null,
   "metadata": {},
   "outputs": [],
   "source": [
    "mpl.rcParams['lines.linewidth'] = 4\n",
    "mpl.rcParams['legend.handlelength']=4\n",
    "mpl.rcParams['legend.fontsize']=14\n",
    "mpl.rcParams['legend.frameon']=False\n",
    "mpl.rcParams['axes.labelsize']=20\n",
    "mpl.rcParams['xtick.minor.visible']=True\n",
    "mpl.rcParams['ytick.minor.visible']=True\n",
    "mpl.rcParams['axes.linewidth'] = 2\n",
    "mpl.rcParams['xtick.major.width'] = 2\n",
    "mpl.rcParams['ytick.major.width'] = 2\n",
    "mpl.rcParams['xtick.minor.width'] = 2\n",
    "mpl.rcParams['ytick.minor.width'] = 2\n",
    "mpl.rcParams['xtick.labelsize']   = 14\n",
    "mpl.rcParams['ytick.labelsize']   = 14"
   ]
  },
  {
   "cell_type": "markdown",
   "metadata": {},
   "source": [
    "Preparing data set"
   ]
  },
  {
   "cell_type": "code",
   "execution_count": null,
   "metadata": {},
   "outputs": [],
   "source": [
    "fn_1d = \"./data/ccsn1d_hdf5_chk_0500\"\n",
    "fn_2d = \"./data/ccsn2d_hdf5_plt_cnt_0200\"\n",
    "fn_3d = \"./data/ccsn3d_hdf5_plt_cnt_0656\""
   ]
  },
  {
   "cell_type": "markdown",
   "metadata": {},
   "source": [
    "Load data ..."
   ]
  },
  {
   "cell_type": "code",
   "execution_count": null,
   "metadata": {},
   "outputs": [],
   "source": [
    "ds_1d = yt.load(fn_1d)\n",
    "ds_2d = yt.load(fn_2d)\n",
    "ds_3d = yt.load(fn_3d)"
   ]
  },
  {
   "cell_type": "markdown",
   "metadata": {},
   "source": [
    "# yt quick start"
   ]
  },
  {
   "cell_type": "markdown",
   "metadata": {},
   "source": [
    "## Data Inspection"
   ]
  },
  {
   "cell_type": "code",
   "execution_count": null,
   "metadata": {},
   "outputs": [],
   "source": [
    "ds_3d.current_time.in_cgs()"
   ]
  },
  {
   "cell_type": "code",
   "execution_count": null,
   "metadata": {},
   "outputs": [],
   "source": [
    "ds_3d.current_time.in_units(\"ms\")"
   ]
  },
  {
   "cell_type": "code",
   "execution_count": null,
   "metadata": {},
   "outputs": [],
   "source": [
    "ds_3d.current_time.in_units(\"day\")"
   ]
  },
  {
   "cell_type": "code",
   "execution_count": null,
   "metadata": {},
   "outputs": [],
   "source": [
    "ds_3d.domain_width.in_units(\"km\")"
   ]
  },
  {
   "cell_type": "code",
   "execution_count": null,
   "metadata": {},
   "outputs": [],
   "source": [
    "ds_3d.print_stats()"
   ]
  },
  {
   "cell_type": "code",
   "execution_count": null,
   "metadata": {},
   "outputs": [],
   "source": [
    "ds_3d.field_list"
   ]
  },
  {
   "cell_type": "code",
   "execution_count": null,
   "metadata": {},
   "outputs": [],
   "source": [
    "ds_3d.derived_field_list"
   ]
  },
  {
   "cell_type": "code",
   "execution_count": null,
   "metadata": {},
   "outputs": [],
   "source": [
    "print(ds_3d.field_info[\"gas\", \"pressure_gradient_x\"].get_source())"
   ]
  },
  {
   "cell_type": "code",
   "execution_count": null,
   "metadata": {},
   "outputs": [],
   "source": [
    "sphere = ds_3d.sphere(\"max\", (500, 'km'))"
   ]
  },
  {
   "cell_type": "code",
   "execution_count": null,
   "metadata": {},
   "outputs": [],
   "source": [
    "sphere"
   ]
  },
  {
   "cell_type": "code",
   "execution_count": null,
   "metadata": {},
   "outputs": [],
   "source": [
    "list(sphere.quantities.keys())"
   ]
  },
  {
   "cell_type": "code",
   "execution_count": null,
   "metadata": {},
   "outputs": [],
   "source": [
    "tot_mass = sphere.quantities.total_mass()"
   ]
  },
  {
   "cell_type": "code",
   "execution_count": null,
   "metadata": {},
   "outputs": [],
   "source": [
    "print(tot_mass.in_units(\"msun\"))"
   ]
  },
  {
   "cell_type": "code",
   "execution_count": null,
   "metadata": {},
   "outputs": [],
   "source": [
    "sphere.quantities.center_of_mass().in_units(\"km\")"
   ]
  },
  {
   "cell_type": "markdown",
   "metadata": {},
   "source": [
    "## Simple Visualizations"
   ]
  },
  {
   "cell_type": "code",
   "execution_count": null,
   "metadata": {},
   "outputs": [],
   "source": [
    "path=\"/Users/pan/codes/BANG/object\"\n",
    "fn = path+\"/sedov_hdf5_chk_0003\"\n",
    "ds = yt.load(fn)"
   ]
  },
  {
   "cell_type": "code",
   "execution_count": null,
   "metadata": {},
   "outputs": [],
   "source": [
    "slice = yt.SlicePlot(ds,'z',\"dens\")"
   ]
  },
  {
   "cell_type": "code",
   "execution_count": null,
   "metadata": {},
   "outputs": [],
   "source": [
    "slice.annotate_grids()\n",
    "slice.show()"
   ]
  },
  {
   "cell_type": "code",
   "execution_count": null,
   "metadata": {},
   "outputs": [],
   "source": [
    "slice = yt.SlicePlot(ds_3d,'z',\"entr\",width=(250,'km'))"
   ]
  },
  {
   "cell_type": "code",
   "execution_count": null,
   "metadata": {},
   "outputs": [],
   "source": [
    "slice.show()"
   ]
  },
  {
   "cell_type": "code",
   "execution_count": null,
   "metadata": {},
   "outputs": [],
   "source": [
    "slice.set_log('entr',False)\n",
    "slice.set_cmap('entr',cmap=\"Spectral_r\")\n",
    "slice.set_zlim('entr',0,35)\n",
    "slice.show()"
   ]
  },
  {
   "cell_type": "code",
   "execution_count": null,
   "metadata": {},
   "outputs": [],
   "source": [
    "slice = yt.SlicePlot(ds_3d,'z',\"radial_velocity\",width=(250,'km'))\n",
    "slice.set_log('radial_velocity',False)\n",
    "slice.show()"
   ]
  },
  {
   "cell_type": "code",
   "execution_count": null,
   "metadata": {},
   "outputs": [],
   "source": [
    "v, c = ds_3d.find_max(\"density\")\n",
    "slice.set_center((c[0], c[1]))"
   ]
  },
  {
   "cell_type": "code",
   "execution_count": null,
   "metadata": {},
   "outputs": [],
   "source": [
    "slice.pan_rel((-0.2, 0.2))"
   ]
  },
  {
   "cell_type": "code",
   "execution_count": null,
   "metadata": {},
   "outputs": [],
   "source": [
    "slice.pan_rel((0.2, -0.2))"
   ]
  },
  {
   "cell_type": "code",
   "execution_count": null,
   "metadata": {},
   "outputs": [],
   "source": [
    "slice.annotate_grids()"
   ]
  },
  {
   "cell_type": "code",
   "execution_count": null,
   "metadata": {},
   "outputs": [],
   "source": [
    "slice.zoom(2)"
   ]
  },
  {
   "cell_type": "code",
   "execution_count": null,
   "metadata": {},
   "outputs": [],
   "source": [
    "slice.annotate_velocity()"
   ]
  },
  {
   "cell_type": "code",
   "execution_count": null,
   "metadata": {},
   "outputs": [],
   "source": [
    "slice.annotate_contour(\"dens\",ncont=1, take_log=True, clim=[1.e11,1e11], plot_args={'colors':'w'})"
   ]
  },
  {
   "cell_type": "markdown",
   "metadata": {},
   "source": [
    "## Projection Plot"
   ]
  },
  {
   "cell_type": "code",
   "execution_count": null,
   "metadata": {},
   "outputs": [],
   "source": [
    "yt.ProjectionPlot(ds_3d, \"z\", \"entr\",width=(250,'km')).show()"
   ]
  },
  {
   "cell_type": "code",
   "execution_count": null,
   "metadata": {},
   "outputs": [],
   "source": [
    "proj = yt.ProjectionPlot(ds_3d, \"z\", \"entr\",weight_field=\"density\", width=(250,'km'))\n",
    "proj.set_log('entr',False)\n",
    "proj.show()"
   ]
  },
  {
   "cell_type": "markdown",
   "metadata": {},
   "source": [
    "## Off-axis slicing "
   ]
  },
  {
   "cell_type": "code",
   "execution_count": null,
   "metadata": {},
   "outputs": [],
   "source": [
    "sp = ds_3d.sphere(\"center\", (500, \"km\"))\n",
    "L = sp.quantities.angular_momentum_vector()\n",
    "print(\"Angular momentum vector: {0}\".format(L))\n",
    "p = yt.OffAxisSlicePlot(ds_3d, L, \"entr\", sp.center, (400, \"km\"))"
   ]
  },
  {
   "cell_type": "code",
   "execution_count": null,
   "metadata": {},
   "outputs": [],
   "source": [
    "p.set_width((250,'km'))\n",
    "p.set_log('entr',False)\n",
    "p.set_cmap('entr',cmap=\"Spectral_r\")\n",
    "p.show()"
   ]
  },
  {
   "cell_type": "markdown",
   "metadata": {},
   "source": [
    "## Phase plot"
   ]
  },
  {
   "cell_type": "code",
   "execution_count": null,
   "metadata": {},
   "outputs": [],
   "source": [
    "sphere = ds_3d.sphere(\"c\", (500.0, \"km\"))\n",
    "phase_plot = yt.PhasePlot(sphere, \"entr\", \"ye  \", \"cell_mass\",\n",
    "                    weight_field=None)\n",
    "\n",
    "# Set the units of mass to be in solar masses (not the default in cgs)\n",
    "phase_plot.set_unit('cell_mass', 'Msun')\n",
    "phase_plot.set_log('entr',False)\n",
    "phase_plot.set_log('ye  ',False)\n",
    "#phase_plot.save()"
   ]
  },
  {
   "cell_type": "markdown",
   "metadata": {},
   "source": [
    "## Line plot"
   ]
  },
  {
   "cell_type": "code",
   "execution_count": null,
   "metadata": {},
   "outputs": [],
   "source": [
    "# Create a line plot of the variables 'entr' and 'ye . ' with 1000 sampling points evenly spaced\n",
    "# between the coordinates (0, 0, 0) and (0, 2e7, 0)\n",
    "line = yt.LinePlot(ds_3d, ['entr', 'ye  '], (0, 0, 0), (2e7, 0, 0), 1000)\n",
    "line.annotate_legend(['entr','ye  '])\n",
    "line.show()"
   ]
  },
  {
   "cell_type": "markdown",
   "metadata": {},
   "source": [
    "if you don't like the default format in LinePlot, ...."
   ]
  },
  {
   "cell_type": "code",
   "execution_count": null,
   "metadata": {},
   "outputs": [],
   "source": [
    "rmax = 1.2e7"
   ]
  },
  {
   "cell_type": "code",
   "execution_count": null,
   "metadata": {},
   "outputs": [],
   "source": [
    "ray = ds_3d.ray([0,0,0],[rmax,0,0])"
   ]
  },
  {
   "cell_type": "code",
   "execution_count": null,
   "metadata": {},
   "outputs": [],
   "source": [
    "plt.figure(figsize=(8,6))\n",
    "plt.plot(ray['t']*rmax/1.e5,ray['entr'],'-')\n",
    "plt.ylabel(\"Entropy [kb/by]\")\n",
    "plt.xlabel(\"Radius [ckm]\")\n",
    "plt.xlim([0,rmax/1e5])"
   ]
  },
  {
   "cell_type": "markdown",
   "metadata": {},
   "source": [
    "Can be applied to 1D/2D data as well"
   ]
  },
  {
   "cell_type": "code",
   "execution_count": null,
   "metadata": {},
   "outputs": [],
   "source": [
    "ray1 = ds_1d.ray([0,0,0],[2e7,0,0])\n",
    "ray2 = ds_2d.ray([0,0,0],[2e7,0,0])\n",
    "plt.figure(figsize=(8,6))\n",
    "plt.plot(ray1['t']*2e7/1.e5,ray1['entr'],'-',label=\"1D data\")\n",
    "plt.plot(ray2['t']*2e7/1.e5,ray2['entr'],'-',label=\"2D data\")\n",
    "plt.ylabel(\"Entropy [kb/by]\")\n",
    "plt.xlabel(\"Radius [ckm]\")\n",
    "plt.legend(loc='best')\n",
    "plt.xlim([0,2e7/1e5])"
   ]
  },
  {
   "cell_type": "markdown",
   "metadata": {},
   "source": [
    "## Values at a point (0D)"
   ]
  },
  {
   "cell_type": "code",
   "execution_count": null,
   "metadata": {},
   "outputs": [],
   "source": [
    "values = ds_3d.h.find_field_values_at_point([\"dens\",\"entr\",\"ye  \"],[2e7,0,0])"
   ]
  },
  {
   "cell_type": "code",
   "execution_count": null,
   "metadata": {},
   "outputs": [],
   "source": [
    "print(values)"
   ]
  },
  {
   "cell_type": "markdown",
   "metadata": {},
   "source": [
    "# Sedov problem"
   ]
  },
  {
   "cell_type": "code",
   "execution_count": null,
   "metadata": {},
   "outputs": [],
   "source": [
    "path=\"/Users/pan/codes/BANG/object\"\n",
    "fn = path+\"/sedov_hdf5_chk_0003\""
   ]
  },
  {
   "cell_type": "code",
   "execution_count": null,
   "metadata": {},
   "outputs": [],
   "source": [
    "ds = yt.load(fn)"
   ]
  },
  {
   "cell_type": "code",
   "execution_count": null,
   "metadata": {},
   "outputs": [],
   "source": [
    "ray = ds.ray([0.5,0,0],[0.5,1,0])"
   ]
  },
  {
   "cell_type": "code",
   "execution_count": null,
   "metadata": {},
   "outputs": [],
   "source": [
    "plt.figure(figsize=(8,6))\n",
    "plt.plot(ray['t'],ray['dens'],'-',label=\"Sedov\")\n",
    "plt.ylabel(r\"Density [g/cm$^3$]\")\n",
    "plt.xlabel(\"Radius [ckm]\")\n",
    "plt.legend(loc='best')\n",
    "plt.xlim([0,1])"
   ]
  },
  {
   "cell_type": "markdown",
   "metadata": {},
   "source": [
    "## Profile plot"
   ]
  },
  {
   "cell_type": "code",
   "execution_count": null,
   "metadata": {},
   "outputs": [],
   "source": [
    "sphere = ds_3d.sphere([0,0,0],(2e7,'cm'))"
   ]
  },
  {
   "cell_type": "code",
   "execution_count": null,
   "metadata": {},
   "outputs": [],
   "source": [
    "profile = yt.ProfilePlot(sphere, \"radius\", [\"entr\"],n_bins=120)\n",
    "profile.set_log('radius',False)\n",
    "profile.set_log('entr',False)\n",
    "profile.show()"
   ]
  },
  {
   "cell_type": "code",
   "execution_count": null,
   "metadata": {},
   "outputs": [],
   "source": [
    "profile = yt.create_profile(sphere, \"radius\",[\"entr\",\"ye  \"],n_bins=200,extrema={'radius':(1e5,2e7)},logs={'radius':False},weight_field='cell_mass',accumulation=False)"
   ]
  },
  {
   "cell_type": "code",
   "execution_count": null,
   "metadata": {},
   "outputs": [],
   "source": [
    "plt.figure(figsize=(8,6))\n",
    "plt.plot(profile.x/1e5,profile[\"entr\"].v)\n",
    "plt.ylabel(\"Entropy [kb/by]\")\n",
    "plt.xlabel(\"Radius [km]\")"
   ]
  },
  {
   "cell_type": "markdown",
   "metadata": {},
   "source": [
    "## Slice plot in 2D (cylindrical coordinates)"
   ]
  },
  {
   "cell_type": "code",
   "execution_count": null,
   "metadata": {},
   "outputs": [],
   "source": [
    "slice2 = yt.SlicePlot(ds_2d,'theta',\"entr\",origin=\"native\",center=[0,0,0],width=(400,'km'))\n",
    "slice2.annotate_grids()\n",
    "#slice2.hide_axes()\n",
    "slice2.show()"
   ]
  },
  {
   "cell_type": "markdown",
   "metadata": {},
   "source": [
    "## To fix it, one solution is using the fix-resolution-buffer method"
   ]
  },
  {
   "cell_type": "code",
   "execution_count": null,
   "metadata": {},
   "outputs": [],
   "source": [
    "rmax = 2.e7\n",
    "slice2d = yt.SlicePlot(ds_2d,\"theta\",\"entr\",origin=('center','left','window'))\n",
    "slc_frb = slice2d.data_source.to_frb((2*rmax,\"cm\"),1024,center=(0,0,0),height=(2*rmax,\"cm\"))\n",
    "plt.figure(10,figsize=(6,9))\n",
    "plt.imshow(slc_frb[\"entr\"].d,extent=[-rmax,rmax,-rmax,rmax],\n",
    "           interpolation='nearest',\n",
    "           aspect=1.0,\n",
    "           cmap='Spectral_r',\n",
    "           origin='center')\n",
    "plt.xlim([0,rmax])\n",
    "plt.ylim([-rmax,rmax])\n",
    "cbar = plt.colorbar(shrink=1.0)\n",
    "cbar.ax.set_ylabel(\"Entropy [kb/by]\",rotation=270,labelpad=25)\n",
    "plt.xlabel(\"R [cm]\")\n",
    "plt.ylabel(\"Z [cm]\")"
   ]
  },
  {
   "cell_type": "markdown",
   "metadata": {},
   "source": [
    "## or use Kuo-Chuan's script "
   ]
  },
  {
   "cell_type": "code",
   "execution_count": null,
   "metadata": {},
   "outputs": [],
   "source": [
    "from scripts.slice2d import *"
   ]
  },
  {
   "cell_type": "code",
   "execution_count": null,
   "metadata": {},
   "outputs": [],
   "source": [
    "fig = slice2d(ds_2d,\"entr\",rmax=2e7)"
   ]
  },
  {
   "cell_type": "code",
   "execution_count": null,
   "metadata": {},
   "outputs": [],
   "source": [
    "fig = slice2d(ds_2d,\"dens\",rmax=2e7,clim=[1e9,1e15],take_log=True)"
   ]
  },
  {
   "cell_type": "markdown",
   "metadata": {},
   "source": [
    "## ADding new derived fields"
   ]
  },
  {
   "cell_type": "code",
   "execution_count": null,
   "metadata": {},
   "outputs": [],
   "source": [
    "slice = yt.SlicePlot(ds_3d,'z',\"specific_angular_momentum_magnitude\",width=(250,'km'))\n",
    "slice.show()"
   ]
  },
  {
   "cell_type": "code",
   "execution_count": null,
   "metadata": {},
   "outputs": [],
   "source": [
    "values = ds_3d.h.find_field_values_at_point([\"dens\",\"entr\",\"ye  \"],[2.7,0,0])\n",
    "print(\"Entropy is \", values[1])"
   ]
  },
  {
   "cell_type": "code",
   "execution_count": null,
   "metadata": {},
   "outputs": [],
   "source": [
    "def add_entropy(ds):\n",
    "    from yt.units.dimensions import mass, energy, temperature\n",
    "    from yt.units import cm\n",
    "    ds.unit_registry.add('kB',1.3806488e-16,dimensions=energy/temperature,tex_repr=r'{\\rm k_{B}}')\n",
    "    ds.unit_registry.add('by',1.674e-24,dimensions=mass,tex_repr=r'{\\rm baryon}')\n",
    "    def _entr(field,data):\n",
    "        entr = data[\"entr\"]\n",
    "        kb_by = yt.YTQuantity(1,'erg')/yt.YTQuantity(1,'K')/yt.YTQuantity(1,'g')*(1.3806488e-16/1.674e-24)\n",
    "        return entr*kb_by\n",
    "    ds.add_field(\"Entropy\",function=_entr,units=\"kB/by\",\n",
    "                 display_name=\"Entropy\",\n",
    "                 dimensions=energy/temperature/mass)\n",
    "    return ds"
   ]
  },
  {
   "cell_type": "code",
   "execution_count": null,
   "metadata": {},
   "outputs": [],
   "source": [
    "ds_3d = add_entropy(ds_3d)"
   ]
  },
  {
   "cell_type": "code",
   "execution_count": null,
   "metadata": {},
   "outputs": [],
   "source": [
    "values = ds_3d.h.find_field_values_at_point([\"dens\",\"Entropy\",\"ye  \"],[2.7,0,0])\n",
    "print(\"Entropy is \", values[1])"
   ]
  },
  {
   "cell_type": "markdown",
   "metadata": {},
   "source": [
    "### Adding gradient fields"
   ]
  },
  {
   "cell_type": "code",
   "execution_count": null,
   "metadata": {},
   "outputs": [],
   "source": [
    "ds_3d.periodicity = (True, True, True)"
   ]
  },
  {
   "cell_type": "code",
   "execution_count": null,
   "metadata": {},
   "outputs": [],
   "source": [
    "ds_3d.add_gradient_fields((\"gas\",\"Entropy\"))"
   ]
  },
  {
   "cell_type": "code",
   "execution_count": null,
   "metadata": {},
   "outputs": [],
   "source": [
    "slice = yt.SlicePlot(ds_3d,'z',\"Entropy_gradient_magnitude\",width=(250,'km'))"
   ]
  },
  {
   "cell_type": "code",
   "execution_count": null,
   "metadata": {},
   "outputs": [],
   "source": [
    "slice.show()"
   ]
  },
  {
   "cell_type": "markdown",
   "metadata": {},
   "source": [
    "## Working with Cylindrical data"
   ]
  },
  {
   "cell_type": "code",
   "execution_count": null,
   "metadata": {},
   "outputs": [],
   "source": [
    "ds_2d.derived_field_list"
   ]
  },
  {
   "cell_type": "code",
   "execution_count": null,
   "metadata": {},
   "outputs": [],
   "source": [
    "fig = slice2d(ds_2d,\"velocity_magnitude\",rmax=2e7,clim=[0,1e10],take_log=False)"
   ]
  },
  {
   "cell_type": "code",
   "execution_count": null,
   "metadata": {},
   "outputs": [],
   "source": [
    "def _cyl_radial_velocity(field,data):\n",
    "    r = data[\"r\"]\n",
    "    z = data[\"z\"]\n",
    "    velx = data[\"velx\"]\n",
    "    vely = data[\"vely\"]\n",
    "    phi = np.arctan(z/r)\n",
    "    velr = np.cos(phi)*velx + np.sin(phi)*vely\n",
    "    return velr\n",
    "\n",
    "def _cyl_tangential_velocity(field,data):\n",
    "    r = data[\"r\"]\n",
    "    z = data[\"z\"]\n",
    "    velx = data[\"velx\"]\n",
    "    vely = data[\"vely\"]\n",
    "    phi = np.arctan(z/r)\n",
    "    tanr = -np.sin(phi)*velx + np.cos(phi)*vely\n",
    "    return tanr"
   ]
  },
  {
   "cell_type": "code",
   "execution_count": null,
   "metadata": {},
   "outputs": [],
   "source": [
    "ds_2d.add_field(\"radial_velocity\",function=_cyl_radial_velocity,units='cm/s',sampling_type='cell')\n",
    "ds_2d.add_field(\"tangential_velocity\",function=_cyl_tangential_velocity,units='cm/s',sampling_type='cell')"
   ]
  },
  {
   "cell_type": "code",
   "execution_count": null,
   "metadata": {},
   "outputs": [],
   "source": [
    "fig = slice2d(ds_2d,\"radial_velocity\",rmax=2e7,clim=[-1e9,1e9],take_log=False)"
   ]
  },
  {
   "cell_type": "markdown",
   "metadata": {},
   "source": [
    "## Filtering Data"
   ]
  },
  {
   "cell_type": "code",
   "execution_count": null,
   "metadata": {},
   "outputs": [],
   "source": [
    "sp = ds_2d.sphere('max',(1000,'km'))\n",
    "pns = sp.cut_region(['obj[\"density\"] > 1e11'])"
   ]
  },
  {
   "cell_type": "code",
   "execution_count": null,
   "metadata": {},
   "outputs": [],
   "source": [
    "cm = pns[\"cell_mass\"]\n",
    "print(cm.sum().in_units(\"msun\"))"
   ]
  },
  {
   "cell_type": "code",
   "execution_count": null,
   "metadata": {},
   "outputs": [],
   "source": [
    "ad = ds_3d.all_data()\n",
    "shocked_region =  ad.cut_region(['(obj[\"dens\"] < 1e11) & (obj[\"entr\"] > 8)'])"
   ]
  },
  {
   "cell_type": "code",
   "execution_count": null,
   "metadata": {},
   "outputs": [],
   "source": [
    "shocked_region[\"dens\"]"
   ]
  },
  {
   "cell_type": "code",
   "execution_count": null,
   "metadata": {},
   "outputs": [],
   "source": [
    "shocked_region[\"radius\"]"
   ]
  },
  {
   "cell_type": "code",
   "execution_count": null,
   "metadata": {},
   "outputs": [],
   "source": [
    "slice = yt.SlicePlot(ds_3d,'z',\"entr\",width=(250,'km'),data_source=shocked_region)"
   ]
  },
  {
   "cell_type": "code",
   "execution_count": null,
   "metadata": {},
   "outputs": [],
   "source": [
    "slice.set_log('entr',False)\n",
    "slice.show()"
   ]
  },
  {
   "cell_type": "markdown",
   "metadata": {},
   "source": [
    "## Saving reloadable data"
   ]
  },
  {
   "cell_type": "markdown",
   "metadata": {},
   "source": [
    "Method (1)"
   ]
  },
  {
   "cell_type": "markdown",
   "metadata": {},
   "source": [
    "Data from geometric data containers can be saved with the save_as_dataset`() function."
   ]
  },
  {
   "cell_type": "code",
   "execution_count": null,
   "metadata": {},
   "outputs": [],
   "source": [
    "fn = shocked_region.save_as_dataset(fields=[\"entr\",\"dens\"])"
   ]
  },
  {
   "cell_type": "code",
   "execution_count": null,
   "metadata": {},
   "outputs": [],
   "source": [
    "sh = yt.load(\"ccsn3d_hdf5_plt_cnt_0656_cut_region.h5\")"
   ]
  },
  {
   "cell_type": "code",
   "execution_count": null,
   "metadata": {},
   "outputs": [],
   "source": [
    "ad = sh.all_data()"
   ]
  },
  {
   "cell_type": "code",
   "execution_count": null,
   "metadata": {},
   "outputs": [],
   "source": [
    "print(ad[\"grid\", \"x\"])\n",
    "print(ad[\"entr\"])"
   ]
  },
  {
   "cell_type": "markdown",
   "metadata": {},
   "source": [
    "Note that because field data queried from geometric containers is returned as unordered 1D arrays, data container datasets are treated, effectively, as particle data. Thus, 3D indexing of grid data from these datasets is not possible."
   ]
  },
  {
   "cell_type": "markdown",
   "metadata": {},
   "source": [
    "Method (2)"
   ]
  },
  {
   "cell_type": "code",
   "execution_count": null,
   "metadata": {},
   "outputs": [],
   "source": [
    "slc = ds_3d.slice('z', 0, data_source=shocked_region)"
   ]
  },
  {
   "cell_type": "code",
   "execution_count": null,
   "metadata": {},
   "outputs": [],
   "source": [
    "slc_frb = slc.to_frb((800.0,\"km\"),800)"
   ]
  },
  {
   "cell_type": "code",
   "execution_count": null,
   "metadata": {},
   "outputs": [],
   "source": [
    "fn = slc_frb.save_as_dataset(fields=[\"entr\",\"dens\",\"ye  \"])\n",
    "print(\"DATASET: {} is saved.\".format(fn))"
   ]
  },
  {
   "cell_type": "code",
   "execution_count": null,
   "metadata": {},
   "outputs": [],
   "source": [
    "frb = yt.load(fn)"
   ]
  },
  {
   "cell_type": "code",
   "execution_count": null,
   "metadata": {},
   "outputs": [],
   "source": [
    "dens = frb.data[\"dens\"]\n",
    "entr = frb.data[\"entr\"]"
   ]
  },
  {
   "cell_type": "code",
   "execution_count": null,
   "metadata": {},
   "outputs": [],
   "source": [
    "print(entr)"
   ]
  },
  {
   "cell_type": "code",
   "execution_count": null,
   "metadata": {},
   "outputs": [],
   "source": [
    "dx = 1e5 # [cm]\n",
    "xmin = -4.e7\n",
    "xmax = 4.e7\n",
    "xx = np.linspace(xmin + 0.5*dx,xmax - 0.5*dx,800)\n",
    "yy = np.linspace(xmin + 0.5*dx,xmax - 0.5*dx,800)\n",
    "plt.figure(1,figsize=(12,12))\n",
    "plt.imshow(entr, extent=[xmin,xmax,xmin,xmax],interpolation='bicubic',aspect=1.0,origin='center', cmap=\"Spectral_r\")\n",
    "plt.xlabel(\"X [cm]\")\n",
    "plt.ylabel(\"Y [cm]\")\n",
    "plt.xlim([-2e7,2e7])\n",
    "plt.ylim([-2e7,2e7])\n",
    "cbar =plt.colorbar(shrink=0.8)\n",
    "plt.clim([0,30])\n",
    "plt.contour(dens,[1e11],colors=('y'),extent=[xmin,xmax,xmin,xmax])\n",
    "plt.axis('off')"
   ]
  },
  {
   "cell_type": "markdown",
   "metadata": {},
   "source": [
    "# Volume rendering\n",
    "also see: https://yt-project.org/docs/dev/visualizing/volume_rendering.html"
   ]
  },
  {
   "cell_type": "code",
   "execution_count": null,
   "metadata": {},
   "outputs": [],
   "source": [
    "sc = yt.create_scene(ds_3d, field=\"entr\")\n",
    "sc.camera.set_width((300,'km'))\n",
    "\n",
    "source = sc.get_source(0)\n",
    "source.set_field('entr')\n",
    "source.set_log(False)\n",
    "bounds = (10, 30)\n",
    "\n",
    "# Since this rendering is done in log space, the transfer function needs\n",
    "# to be specified in log space.\n",
    "tf = yt.ColorTransferFunction(bounds)\n",
    "tf.sample_colormap(25, w=.5, colormap='autumn')\n",
    "\n",
    "source.tfh.tf = tf\n",
    "source.tfh.bounds = bounds\n",
    "source.tfh.plot('transfer_function.png', profile_field='entr')\n",
    "\n",
    "sc.save('rendering.png', sigma_clip=6)"
   ]
  },
  {
   "cell_type": "code",
   "execution_count": null,
   "metadata": {},
   "outputs": [],
   "source": []
  }
 ],
 "metadata": {
  "kernelspec": {
   "display_name": "Python [conda env:python3]",
   "language": "python",
   "name": "conda-env-python3-py"
  },
  "language_info": {
   "codemirror_mode": {
    "name": "ipython",
    "version": 3
   },
   "file_extension": ".py",
   "mimetype": "text/x-python",
   "name": "python",
   "nbconvert_exporter": "python",
   "pygments_lexer": "ipython3",
   "version": "3.6.1"
  }
 },
 "nbformat": 4,
 "nbformat_minor": 2
}
